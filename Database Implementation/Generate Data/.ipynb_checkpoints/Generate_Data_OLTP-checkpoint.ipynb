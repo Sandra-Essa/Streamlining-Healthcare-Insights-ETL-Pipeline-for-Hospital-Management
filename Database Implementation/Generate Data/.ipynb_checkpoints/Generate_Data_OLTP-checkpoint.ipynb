{
 "cells": [
  {
   "cell_type": "markdown",
   "id": "e446cc69-16b0-433d-a47e-740a48286e32",
   "metadata": {},
   "source": [
    "## Import Libraries"
   ]
  },
  {
   "cell_type": "code",
   "execution_count": 6,
   "id": "13db75e3-7779-49f3-92b8-5b1410662aa7",
   "metadata": {},
   "outputs": [],
   "source": [
    "import pandas as pd\n",
    "import pyodbc\n",
    "from sqlalchemy import create_engine\n",
    "import random\n",
    "from datetime import datetime, timedelta"
   ]
  },
  {
   "cell_type": "markdown",
   "id": "8f61530b-9d62-404b-95e9-9a457f45d918",
   "metadata": {},
   "source": [
    "## Connection with MS SQL"
   ]
  },
  {
   "cell_type": "code",
   "execution_count": 34,
   "id": "433e29c0-0a80-48a2-97eb-864e88eabc77",
   "metadata": {},
   "outputs": [],
   "source": [
    "database_name = 'OLTP_Hospital_Management_System'\n",
    "\n",
    "# Windows authentication connection string for MS SQL Server\n",
    "conn_str = (\n",
    "    r'Driver={SQL Server};'\n",
    "    r'Server=.;'\n",
    "    f'Database={database_name};'\n",
    "    r'Trusted_Connection=yes;'\n",
    ")"
   ]
  },
  {
   "cell_type": "code",
   "execution_count": 35,
   "id": "9a1a46ce-9fde-4a3a-b147-b76e065f6829",
   "metadata": {},
   "outputs": [],
   "source": [
    "# Create a connection to the database\n",
    "conn = pyodbc.connect(conn_str)\n",
    "\n",
    "# Create a cursor object to execute SQL commands\n",
    "cursor = conn.cursor()\n"
   ]
  },
  {
   "cell_type": "markdown",
   "id": "62c5b792-6c70-4f0a-8005-a9ff4756f486",
   "metadata": {},
   "source": [
    "## Social_Services table"
   ]
  },
  {
   "cell_type": "code",
   "execution_count": 14,
   "id": "8ad9acd8-ec9f-48c4-a6ac-fc4fa0f0b12a",
   "metadata": {},
   "outputs": [
    {
     "name": "stdout",
     "output_type": "stream",
     "text": [
      "50 rows of data inserted successfully into the Social_Services table.\n"
     ]
    }
   ],
   "source": [
    "# Define the service names\n",
    "service_names = [\"Operation\", \"Room Service\", \"Drugs\"]\n",
    "\n",
    "# Generate and insert 50 rows of data\n",
    "for service_id in range(1, 51):\n",
    "    service_name = service_names[service_id % len(service_names)]\n",
    "    \n",
    "    # Generate a random date within the last 30 days\n",
    "    today = datetime.now()\n",
    "    random_days = random.randint(1, 50)\n",
    "    service_date = (today - timedelta(days=random_days)).strftime('%Y-%m-%d')\n",
    "\n",
    "    cursor.execute(\"INSERT INTO Social_Services (Service_ID, Services_Name, day_of_service) VALUES (?, ?, ?)\",\n",
    "                   (service_id, service_name, service_date))\n",
    "\n",
    "# Commit the changes to the database\n",
    "conn.commit()\n",
    "print(\"50 rows of data inserted successfully into the Social_Services table.\")"
   ]
  },
  {
   "cell_type": "markdown",
   "id": "50f3da91-802c-4b5e-bd27-fc9edc1b6215",
   "metadata": {},
   "source": [
    "## Students table"
   ]
  },
  {
   "cell_type": "code",
   "execution_count": 20,
   "id": "4cbb44f0-7ce3-40d0-93df-d12a5f4899ed",
   "metadata": {},
   "outputs": [
    {
     "name": "stdout",
     "output_type": "stream",
     "text": [
      "50 rows of data inserted successfully into the Students table.\n"
     ]
    }
   ],
   "source": [
    "# Define the student categories\n",
    "student_categories = [\"Category A\", \"Category B\", \"Category C\"]\n",
    "\n",
    "# Generate lists of first names and last names\n",
    "first_names = [\n",
    "    \"Ahmed\", \"Sami\", \"Omar\", \"Youssef\", \"Mohamed\", \"Ali\", \"Khaled\", \"Nabil\", \"Hassan\", \"Yasser\",\n",
    "    \"Amira\", \"Fatima\", \"Nour\", \"Laila\", \"Yara\", \"Sara\", \"Mariam\", \"Mona\", \"Salma\", \"Samira\"\n",
    "]\n",
    "\n",
    "# Male last names\n",
    "male_last_names = [\n",
    "    \"Wael\", \"Sami\", \"Ali\", \"Khaled\", \"Hassan\", \"Nasser\", \"Ezzat\", \"Mahmoud\", \"Ahmed\", \"Sami\"\n",
    "]\n",
    "\n",
    "# Generate and insert 50 rows of data with unique full names (first name + male last name)\n",
    "for student_id in range(1, 51):\n",
    "    first_name = random.choice(first_names)\n",
    "    last_name = random.choice(male_last_names)\n",
    "\n",
    "    student_name = f\"{first_name} {last_name}\"\n",
    "    category = random.choice(student_categories)\n",
    "\n",
    "    cursor.execute(\"INSERT INTO Students (Student_ID, Student_Name, Category) VALUES (?, ?, ?)\",\n",
    "                   (student_id, student_name, category))\n",
    "\n",
    "# Commit the changes to the database\n",
    "conn.commit()\n",
    "\n",
    "print(\"50 rows of data inserted successfully into the Students table.\")"
   ]
  },
  {
   "cell_type": "markdown",
   "id": "5546011f-1b74-4b9c-b008-f4c43c2dbc99",
   "metadata": {},
   "source": [
    "## Disease table"
   ]
  },
  {
   "cell_type": "code",
   "execution_count": 21,
   "id": "40b57159-adb1-4d1d-9e24-ac7136375eed",
   "metadata": {},
   "outputs": [
    {
     "name": "stdout",
     "output_type": "stream",
     "text": [
      "50 rows of data inserted successfully into the Disease table.\n"
     ]
    }
   ],
   "source": [
    "# Generate a list of disease names\n",
    "disease_names = [\n",
    "    \"Fever\", \"Flu\", \"Common Cold\", \"Hypertension\", \"Diabetes\", \"Asthma\", \"Arthritis\", \"Bronchitis\",\n",
    "    \"Migraine\", \"Appendicitis\", \"Pneumonia\", \"Anemia\", \"Eczema\", \"Hepatitis\", \"Gastritis\", \"Allergy\",\n",
    "    \"Cancer\", \"Stroke\", \"Obesity\", \"Tuberculosis\", \"Dengue Fever\", \"Cholera\", \"Malaria\", \"HIV/AIDS\",\n",
    "    \"Alzheimer's Disease\", \"Parkinson's Disease\", \"Epilepsy\", \"Schizophrenia\", \"Depression\", \"Anxiety\",\n",
    "    \"Heart Attack\", \"Kidney Stones\", \"Liver Cirrhosis\", \"Rheumatoid Arthritis\", \"Gout\", \"Osteoporosis\",\n",
    "    \"Ulcerative Colitis\", \"Crohn's Disease\", \"Multiple Sclerosis\", \"Chronic Bronchitis\", \"COPD\",\n",
    "    \"Endometriosis\", \"PCOS\", \"Hypothyroidism\", \"Hyperthyroidism\", \"Celiac Disease\", \"Glaucoma\", \"Tinnitus\",\n",
    "    \"Vertigo\", \"Panic Disorder\", \"Bipolar Disorder\", \"PTSD\"\n",
    "]\n",
    "\n",
    "# Shuffle the list of disease names to ensure randomness\n",
    "random.shuffle(disease_names)\n",
    "\n",
    "# Generate and insert 50 rows of data with unique disease names\n",
    "for dis_id in range(1, 51):\n",
    "    disease_name = disease_names[dis_id - 1]\n",
    "\n",
    "    cursor.execute(\"INSERT INTO Disease (Dis_ID, Dis_Name) VALUES (?, ?)\",\n",
    "                   (dis_id, disease_name))\n",
    "\n",
    "# Commit the changes to the database\n",
    "conn.commit()\n",
    "\n",
    "print(\"50 rows of data inserted successfully into the Disease table.\")"
   ]
  },
  {
   "cell_type": "markdown",
   "id": "53244b91-87d3-4239-92c6-c3f16ded7086",
   "metadata": {},
   "source": [
    "## Nurses table"
   ]
  },
  {
   "cell_type": "code",
   "execution_count": 24,
   "id": "dac703df-c582-477c-b99f-6005b86455de",
   "metadata": {},
   "outputs": [
    {
     "name": "stdout",
     "output_type": "stream",
     "text": [
      "50 rows of data inserted successfully into the nurses table.\n"
     ]
    }
   ],
   "source": [
    "# Generate lists of first names and last names\n",
    "first_names = [\n",
    "    \"Ahmed\", \"Sami\", \"Omar\", \"Youssef\", \"Mohamed\", \"Ali\", \"Khaled\", \"Nabil\", \"Hassan\", \"Yasser\",\n",
    "    \"Amira\", \"Fatima\", \"Nour\", \"Laila\", \"Yara\", \"Sara\", \"Mariam\", \"Mona\", \"Salma\", \"Samira\"\n",
    "]\n",
    "\n",
    "# Male last names\n",
    "male_last_names = [\n",
    "    \"Wael\", \"Sami\", \"Ali\", \"Khaled\", \"Hassan\", \"Nasser\", \"Ezzat\", \"Mahmoud\", \"Ahmed\", \"Sami\"\n",
    "]\n",
    "\n",
    "# Generate and insert 50 rows of data with unique full names (first name + male last name)\n",
    "for nurse_id in range(1, 51):\n",
    "    first_name = random.choice(first_names)\n",
    "    last_name = random.choice(male_last_names)\n",
    "\n",
    "    nurse_name = f\"{first_name} {last_name}\"\n",
    "    \n",
    "\n",
    "    cursor.execute(\"INSERT INTO Nurses (Nurse_ID, Nurse_Name) VALUES (?, ?)\",\n",
    "                   (nurse_id, nurse_name))\n",
    "\n",
    "# Commit the changes to the database\n",
    "conn.commit()\n",
    "\n",
    "print(\"50 rows of data inserted successfully into the nurses table.\")"
   ]
  },
  {
   "cell_type": "markdown",
   "id": "1aad5aa4-3d4d-4236-bdca-70598597cd3f",
   "metadata": {},
   "source": [
    "## Specialization table"
   ]
  },
  {
   "cell_type": "code",
   "execution_count": 36,
   "id": "06175ba5-b088-4308-a86f-5052383ef023",
   "metadata": {},
   "outputs": [
    {
     "name": "stdout",
     "output_type": "stream",
     "text": [
      "40 rows of data inserted successfully into the Specialization table.\n"
     ]
    }
   ],
   "source": [
    "# Generate a list of specialization names\n",
    "specialization_names = [\n",
    "    \"Cardiology\", \"Dermatology\", \"Endocrinology\", \"Gastroenterology\", \"Hematology\", \"Neurology\",\n",
    "    \"Oncology\", \"Orthopedics\", \"Pediatrics\", \"Psychiatry\", \"Radiology\", \"Surgery\", \"Urology\",\n",
    "    \"Allergy and Immunology\", \"Anesthesiology\", \"Internal Medicine\",\n",
    "    \"Obstetrics and Gynecology\", \"Ophthalmology\", \"Pathology\", \"Physical Medicine and Rehabilitation\",\n",
    "    \"Preventive Medicine\", \"Pulmonology\", \"Rheumatology\", \"Emergency Medicine\", \"Critical Care Medicine\",\n",
    "    \"Nephrology\", \"Infectious Disease\",  \"Neonatology\", \"Sports Medicine\", \"Forensic Medicine\",\n",
    "    \"Clinical Genetics\",  \"Pain Medicine\", \"Integrative Medicine\", \n",
    "    \"Medical Genetics\", \"Molecular Medicine\", \"Addiction Medicine\", \"Medical Toxicology\", \"Clinical Informatics\",\n",
    "    \"Interventional Radiology\", \"Dentistry\", \"Osteopathy\", \"Chiropractic\", \"Naturopathy\"\n",
    "]\n",
    "\n",
    "# Shuffle the list of specialization names to ensure randomness\n",
    "random.shuffle(specialization_names)\n",
    "\n",
    "# Generate and insert 40 rows of data with unique specialization names\n",
    "for spec_id in range(1, 41):  \n",
    "    spec_name = specialization_names[spec_id - 1]\n",
    "\n",
    "    cursor.execute(\"INSERT INTO Specialization (Spec_ID, Spec_Name) VALUES (?, ?)\",\n",
    "                   (spec_id, spec_name))\n",
    "\n",
    "\n",
    "# Commit the changes to the database\n",
    "conn.commit()\n",
    "\n",
    "print(\"40 rows of data inserted successfully into the Specialization table.\")"
   ]
  },
  {
   "cell_type": "code",
   "execution_count": null,
   "id": "08b3d7e8-00f9-4d94-951d-35874631743c",
   "metadata": {},
   "outputs": [],
   "source": []
  },
  {
   "cell_type": "code",
   "execution_count": null,
   "id": "eeb7f1ac-fc2a-4784-99bc-30a426f0eee4",
   "metadata": {},
   "outputs": [],
   "source": []
  },
  {
   "cell_type": "code",
   "execution_count": null,
   "id": "d8557814-5435-43e7-8d6e-a12b07ac0ee9",
   "metadata": {},
   "outputs": [],
   "source": []
  },
  {
   "cell_type": "code",
   "execution_count": null,
   "id": "7b8449db-a273-452b-8a87-7a0aea0f3abc",
   "metadata": {},
   "outputs": [],
   "source": []
  },
  {
   "cell_type": "code",
   "execution_count": null,
   "id": "5476e1f0-0954-4bdd-9397-cbea7bb944c3",
   "metadata": {},
   "outputs": [],
   "source": []
  },
  {
   "cell_type": "code",
   "execution_count": null,
   "id": "de7dfdb7-e293-44d5-9cd7-b8a1d66c20ef",
   "metadata": {},
   "outputs": [],
   "source": []
  },
  {
   "cell_type": "code",
   "execution_count": null,
   "id": "371e69c7-7861-4cb9-ad45-d5fc31948af2",
   "metadata": {},
   "outputs": [],
   "source": []
  },
  {
   "cell_type": "code",
   "execution_count": null,
   "id": "9f68fece-796a-4afa-b289-876dcd6fcfeb",
   "metadata": {},
   "outputs": [],
   "source": []
  },
  {
   "cell_type": "code",
   "execution_count": 33,
   "id": "a1346033-1ee9-4b2d-96f9-cfebbd848c7a",
   "metadata": {},
   "outputs": [],
   "source": [
    "# Close the cursor and connection\n",
    "cursor.close()\n",
    "conn.close()"
   ]
  },
  {
   "cell_type": "code",
   "execution_count": null,
   "id": "b112ff30-a36e-4e51-9204-fe5458b6a7d2",
   "metadata": {},
   "outputs": [],
   "source": []
  }
 ],
 "metadata": {
  "kernelspec": {
   "display_name": "Python 3 (ipykernel)",
   "language": "python",
   "name": "python3"
  },
  "language_info": {
   "codemirror_mode": {
    "name": "ipython",
    "version": 3
   },
   "file_extension": ".py",
   "mimetype": "text/x-python",
   "name": "python",
   "nbconvert_exporter": "python",
   "pygments_lexer": "ipython3",
   "version": "3.10.0"
  }
 },
 "nbformat": 4,
 "nbformat_minor": 5
}
