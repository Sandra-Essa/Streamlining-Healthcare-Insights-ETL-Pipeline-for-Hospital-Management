{
 "cells": [
  {
   "cell_type": "markdown",
   "id": "e446cc69-16b0-433d-a47e-740a48286e32",
   "metadata": {},
   "source": [
    "## Import Libraries"
   ]
  },
  {
   "cell_type": "code",
   "execution_count": 127,
   "id": "13db75e3-7779-49f3-92b8-5b1410662aa7",
   "metadata": {},
   "outputs": [],
   "source": [
    "import pandas as pd\n",
    "import pyodbc\n",
    "from sqlalchemy import create_engine\n",
    "import random\n",
    "from datetime import datetime, timedelta"
   ]
  },
  {
   "cell_type": "markdown",
   "id": "8f61530b-9d62-404b-95e9-9a457f45d918",
   "metadata": {},
   "source": [
    "## Connection with MS SQL"
   ]
  },
  {
   "cell_type": "code",
   "execution_count": 128,
   "id": "433e29c0-0a80-48a2-97eb-864e88eabc77",
   "metadata": {},
   "outputs": [],
   "source": [
    "database_name = 'OLTP_Hospital_Management_System'\n",
    "\n",
    "# Windows authentication connection string for MS SQL Server\n",
    "conn_str = (\n",
    "    r'Driver={SQL Server};'\n",
    "    r'Server=.;'\n",
    "    f'Database={database_name};'\n",
    "    r'Trusted_Connection=yes;'\n",
    ")"
   ]
  },
  {
   "cell_type": "code",
   "execution_count": 129,
   "id": "9a1a46ce-9fde-4a3a-b147-b76e065f6829",
   "metadata": {},
   "outputs": [],
   "source": [
    "# Create a connection to the database\n",
    "conn = pyodbc.connect(conn_str)\n",
    "\n",
    "# Create a cursor object to execute SQL commands\n",
    "cursor = conn.cursor()\n"
   ]
  },
  {
   "cell_type": "markdown",
   "id": "62c5b792-6c70-4f0a-8005-a9ff4756f486",
   "metadata": {},
   "source": [
    "## Social_Services table"
   ]
  },
  {
   "cell_type": "code",
   "execution_count": 84,
   "id": "8ad9acd8-ec9f-48c4-a6ac-fc4fa0f0b12a",
   "metadata": {},
   "outputs": [
    {
     "name": "stdout",
     "output_type": "stream",
     "text": [
      "50 rows of data inserted successfully into the Social_Services table.\n"
     ]
    }
   ],
   "source": [
    "service_names = [\n",
    "    \"Patient Assistance Programs\", \"Health Education\", \"Community Outreach\",\n",
    "    \"Home Health Visits\", \"Support Groups\", \"Disease Prevention Programs\",\n",
    "    \"Mental Health Counseling\", \"Substance Abuse Counseling\", \"Nutritional Counseling\",\n",
    "    \"Family Planning Services\", \"Prenatal Care Classes\", \"Parenting Classes\",\n",
    "    \"Elderly Care Services\", \"Disability Services\", \"Healthcare Navigation\",\n",
    "    \"Rehabilitation Services\", \"Patient Transport Services\", \"Telehealth Services\",\n",
    "    \"Health Screenings\", \"Health Promotion Campaigns\", \"Wellness Workshops\",\n",
    "    \"Social Support Programs\", \"Patient Follow-up Calls\", \"Healthcare Coordination\",\n",
    "    \"Emergency Response Training\", \"Disaster Preparedness Programs\", \"Health Information Sessions\",\n",
    "    \"Financial Counseling\", \"Patient Rights Advocacy\",\"Vaccinations\"\n",
    "]\n",
    "\n",
    "is_current = 0\n",
    "start_date = datetime(2022, 1, 1) \n",
    "for service_id in range(1, 51):\n",
    "    service_name = random.choice(service_names)\n",
    "    day_of_service = start_date + timedelta(days=random.randint(1, 365))  \n",
    "    last_modified_date = datetime(2024, 4, 26, random.randint(0, 23), random.randint(0, 59), random.randint(0, 59))\n",
    "\n",
    "    cursor.execute(\"INSERT INTO Social_Services (Service_ID, Services_Name, Day_of_Service,LastModifiedDate,is_current ) VALUES (?, ?, ?,?,?)\",\n",
    "                   (service_id, service_name, day_of_service,last_modified_date,is_current))\n",
    "\n",
    "# Commit the changes to the database\n",
    "conn.commit()\n",
    "\n",
    "print(\"50 rows of data inserted successfully into the Social_Services table.\")"
   ]
  },
  {
   "cell_type": "markdown",
   "id": "50f3da91-802c-4b5e-bd27-fc9edc1b6215",
   "metadata": {},
   "source": [
    "## Students table"
   ]
  },
  {
   "cell_type": "code",
   "execution_count": 85,
   "id": "4cbb44f0-7ce3-40d0-93df-d12a5f4899ed",
   "metadata": {},
   "outputs": [
    {
     "name": "stdout",
     "output_type": "stream",
     "text": [
      "50 rows of data inserted successfully into the Students table.\n"
     ]
    }
   ],
   "source": [
    "student_categories = [\"Category A\", \"Category B\", \"Category C\"]\n",
    "\n",
    "first_names = [\n",
    "    \"Ahmed\", \"Sami\", \"Omar\", \"Youssef\", \"Mohamed\", \"Ali\", \"Khaled\", \"Nabil\", \"Hassan\", \"Yasser\",\n",
    "    \"Amira\", \"Fatima\", \"Nour\", \"Laila\", \"Yara\", \"Sara\", \"Mariam\", \"Mona\", \"Salma\", \"Samira\"\n",
    "]\n",
    "\n",
    "\n",
    "male_last_names = [\n",
    "    \"Wael\", \"Sami\", \"Ali\", \"Khaled\", \"Hassan\", \"Nasser\", \"Ezzat\", \"Mahmoud\", \"Ahmed\", \"Sami\"\n",
    "]\n",
    "\n",
    "is_current = 0\n",
    "for student_id in range(1, 101):\n",
    "    first_name = random.choice(first_names)\n",
    "    last_name = random.choice(male_last_names)\n",
    "    student_name = f\"{first_name} {last_name}\"\n",
    "    category = random.choice(student_categories)\n",
    "    last_modified_date = datetime(2024, 4, 26, random.randint(0, 23), random.randint(0, 59), random.randint(0, 59))\n",
    "    cursor.execute(\"INSERT INTO Students (Student_ID, Student_Name, Category,LastModifiedDate,is_current) VALUES (?, ?, ?,?,?)\",\n",
    "                   (student_id, student_name, category,last_modified_date,is_current))\n",
    "\n",
    "\n",
    "conn.commit()\n",
    "print(\"50 rows of data inserted successfully into the Students table.\")"
   ]
  },
  {
   "cell_type": "markdown",
   "id": "5546011f-1b74-4b9c-b008-f4c43c2dbc99",
   "metadata": {},
   "source": [
    "## Disease table"
   ]
  },
  {
   "cell_type": "code",
   "execution_count": 86,
   "id": "40b57159-adb1-4d1d-9e24-ac7136375eed",
   "metadata": {},
   "outputs": [
    {
     "name": "stdout",
     "output_type": "stream",
     "text": [
      "50 rows of data inserted successfully into the Disease table.\n"
     ]
    }
   ],
   "source": [
    "\n",
    "disease_names = [\n",
    "    \"Fever\", \"Flu\", \"Common Cold\", \"Hypertension\", \"Diabetes\", \"Asthma\", \"Arthritis\", \"Bronchitis\",\n",
    "    \"Migraine\", \"Appendicitis\", \"Pneumonia\", \"Anemia\", \"Eczema\", \"Hepatitis\", \"Gastritis\", \"Allergy\",\n",
    "    \"Cancer\", \"Stroke\", \"Obesity\", \"Tuberculosis\", \"Dengue Fever\", \"Cholera\", \"Malaria\", \"HIV/AIDS\",\n",
    "    \"Alzheimer's Disease\", \"Parkinson's Disease\", \"Epilepsy\", \"Schizophrenia\", \"Depression\", \"Anxiety\",\n",
    "    \"Heart Attack\", \"Kidney Stones\", \"Liver Cirrhosis\", \"Rheumatoid Arthritis\", \"Gout\", \"Osteoporosis\",\n",
    "    \"Ulcerative Colitis\", \"Crohn's Disease\", \"Multiple Sclerosis\", \"Chronic Bronchitis\", \"COPD\",\n",
    "    \"Endometriosis\", \"PCOS\", \"Hypothyroidism\", \"Hyperthyroidism\", \"Celiac Disease\", \"Glaucoma\", \"Tinnitus\",\n",
    "    \"Vertigo\", \"Panic Disorder\", \"Bipolar Disorder\", \"PTSD\"\n",
    "]\n",
    "\n",
    "\n",
    "random.shuffle(disease_names)\n",
    "\n",
    "is_current = 0\n",
    "for dis_id in range(1, 51):\n",
    "    disease_name = disease_names[dis_id - 1]\n",
    "    last_modified_date = datetime(2024, 4, 26, random.randint(0, 23), random.randint(0, 59), random.randint(0, 59))\n",
    "    cursor.execute(\"INSERT INTO Disease (Dis_ID, Dis_Name,LastModifiedDate,is_current) VALUES (?, ?,?,?)\",\n",
    "                   (dis_id, disease_name,last_modified_date,is_current))\n",
    "\n",
    "\n",
    "conn.commit()\n",
    "print(\"50 rows of data inserted successfully into the Disease table.\")"
   ]
  },
  {
   "cell_type": "markdown",
   "id": "53244b91-87d3-4239-92c6-c3f16ded7086",
   "metadata": {},
   "source": [
    "## Nurses table"
   ]
  },
  {
   "cell_type": "code",
   "execution_count": 87,
   "id": "dac703df-c582-477c-b99f-6005b86455de",
   "metadata": {},
   "outputs": [
    {
     "name": "stdout",
     "output_type": "stream",
     "text": [
      "50 rows of data inserted successfully into the nurses table.\n"
     ]
    }
   ],
   "source": [
    "\n",
    "first_names = [\n",
    "    \"Ahmed\", \"Sami\", \"Omar\", \"Youssef\", \"Mohamed\", \"Ali\", \"Khaled\", \"Nabil\", \"Hassan\", \"Yasser\",\n",
    "    \"Amira\", \"Fatima\", \"Nour\", \"Laila\", \"Yara\", \"Sara\", \"Mariam\", \"Mona\", \"Salma\", \"Samira\"\n",
    "]\n",
    "\n",
    "male_last_names = [\n",
    "    \"Wael\", \"Sami\", \"Ali\", \"Khaled\", \"Hassan\", \"Nasser\", \"Ezzat\", \"Mahmoud\", \"Ahmed\", \"Sami\"\n",
    "]\n",
    "\n",
    "is_current = 0\n",
    "for nurse_id in range(1, 51):\n",
    "    first_name = random.choice(first_names)\n",
    "    last_name = random.choice(male_last_names)\n",
    "    nurse_name = f\"{first_name} {last_name}\"\n",
    "    last_modified_date = datetime(2024, 4, 26, random.randint(0, 23), random.randint(0, 59), random.randint(0, 59))\n",
    "    cursor.execute(\"INSERT INTO Nurses (Nurse_ID, Nurse_Name,LastModifiedDate,is_current) VALUES (?, ?,?,?)\",\n",
    "                   (nurse_id, nurse_name,last_modified_date,is_current))\n",
    "\n",
    "\n",
    "conn.commit()\n",
    "print(\"50 rows of data inserted successfully into the nurses table.\")"
   ]
  },
  {
   "cell_type": "markdown",
   "id": "1aad5aa4-3d4d-4236-bdca-70598597cd3f",
   "metadata": {},
   "source": [
    "## Specialization table"
   ]
  },
  {
   "cell_type": "code",
   "execution_count": 88,
   "id": "06175ba5-b088-4308-a86f-5052383ef023",
   "metadata": {},
   "outputs": [
    {
     "name": "stdout",
     "output_type": "stream",
     "text": [
      "40 rows of data inserted successfully into the Specialization table.\n"
     ]
    }
   ],
   "source": [
    "# Generate a list of specialization names\n",
    "specialization_names = [\n",
    "    \"Cardiology\", \"Dermatology\", \"Endocrinology\", \"Gastroenterology\", \"Hematology\", \"Neurology\",\n",
    "    \"Oncology\", \"Orthopedics\", \"Pediatrics\", \"Psychiatry\", \"Radiology\", \"Surgery\", \"Urology\",\n",
    "    \"Allergy and Immunology\", \"Anesthesiology\", \"Internal Medicine\",\n",
    "    \"Obstetrics and Gynecology\", \"Ophthalmology\", \"Pathology\", \"Physical Medicine and Rehabilitation\",\n",
    "    \"Preventive Medicine\", \"Pulmonology\", \"Rheumatology\", \"Emergency Medicine\", \"Critical Care Medicine\",\n",
    "    \"Nephrology\", \"Infectious Disease\",  \"Neonatology\", \"Sports Medicine\", \"Forensic Medicine\",\n",
    "    \"Clinical Genetics\",  \"Pain Medicine\", \"Integrative Medicine\", \n",
    "    \"Medical Genetics\", \"Molecular Medicine\", \"Addiction Medicine\", \"Medical Toxicology\", \"Clinical Informatics\",\n",
    "    \"Interventional Radiology\", \"Dentistry\", \"Osteopathy\", \"Chiropractic\", \"Naturopathy\"\n",
    "]\n",
    "\n",
    "\n",
    "random.shuffle(specialization_names)\n",
    "\n",
    "is_current=0\n",
    "for spec_id in range(1, 41):  \n",
    "    spec_name = specialization_names[spec_id - 1]\n",
    "    last_modified_date = datetime(2024, 4, 26, random.randint(0, 23), random.randint(0, 59), random.randint(0, 59))\n",
    "    cursor.execute(\"INSERT INTO Specialization (Spec_ID, Spec_Name,LastModifiedDate,is_current) VALUES (?, ?, ?,?)\",\n",
    "                   (spec_id, spec_name,last_modified_date,is_current))\n",
    "\n",
    "\n",
    "\n",
    "conn.commit()\n",
    "print(\"40 rows of data inserted successfully into the Specialization table.\")"
   ]
  },
  {
   "cell_type": "markdown",
   "id": "aad1a18e-eb1a-46cf-9368-b953bf0a042b",
   "metadata": {},
   "source": [
    "## Pharmacy_Address table"
   ]
  },
  {
   "cell_type": "code",
   "execution_count": 89,
   "id": "c241f4f4-4d0e-45cf-a48a-d0ac4cbd902b",
   "metadata": {},
   "outputs": [
    {
     "name": "stdout",
     "output_type": "stream",
     "text": [
      "50 rows of data inserted successfully into the Pharmacy_Address table.\n"
     ]
    }
   ],
   "source": [
    "cities_and_streets = {\n",
    "    \"Giza\": [\n",
    "        \"Pyramids Street\", \"El Haram Street\", \"Faisal Street\", \"Imbaba Street\", \"Mohandessin Street\",\n",
    "        \"El Mohandesin Street\", \"El Tahrir Street\", \"El Agouza Street\", \"El Bahr El Aazam Street\",\n",
    "        \"Rod El Farag Street\", \"Dokki Street\", \"Haram Street\", \"Sphinx Square\"\n",
    "    ],\n",
    "    \"Cairo\": [\n",
    "        \"Tahrir Square\", \"Mohamed Mahmoud Street\", \"Nile Corniche\", \"Zamalek Street\", \"El Khamayel Street\",\n",
    "        \"El Marghany Street\", \"Cairo-Alexandria Desert Road\", \"5th Settlement Street\", \"El Maadi Street\",\n",
    "        \"Nasr City Street\", \"El Geish Street\", \"El Thawra Street\", \"El Haram Street\", \"Mohandessin Street\",\n",
    "        \"El Kornish Street\", \"Abd El Aziz Fahmy Street\", \"Sphinx Square\", \"El Batal Ahmed Abdel Aziz Street\",\n",
    "        \"El Gomhoreya Street\", \"Talaat Harb Street\", \"Abbas El Akkad Street\", \"El Hegaz Street\", \"El Obour Street\"\n",
    "    ],\n",
    "    \"Delta\": [\n",
    "        \"El Mahalla El Kubra Street\", \"Banha Street\", \"Kafr El Sheikh Street\", \"Tanta Street\", \"Mansoura Street\",\n",
    "        \"Damanhur Street\", \"Zagazig Street\", \"Benha Street\", \"El Mansheya Street\", \"El Kholi Street\",\n",
    "        \"El Galaa Street\", \"El Abbasyia Street\", \"El Eshreen Street\", \"El Zaher Street\", \"El Azhar Street\",\n",
    "        \"El Masry Street\", \"El Nasr Road\", \"El Gomrok Street\", \"El Nasr Street\", \"El Sheikha Ragiha Street\",\n",
    "        \"El Amir Tadros Street\", \"El Makrizi Street\", \"El Geish Street\", \"El Thawra Street\"\n",
    "    ]\n",
    "}\n",
    "\n",
    "delta_cities = [\"Mansoura\", \"Tanta\", \"Damanhur\", \"Zagazig\", \"Benha\", \"Kafr El Sheikh\", \"El Mahalla El Kubra\", \"Banha\"]\n",
    "\n",
    "\n",
    "for city_streets in cities_and_streets.values():\n",
    "    random.shuffle(city_streets)\n",
    "\n",
    "is_current =0\n",
    "for zip_code in range(2000, 2051): \n",
    "    city = random.choice(delta_cities + [\"Cairo\", \"Giza\"])\n",
    "    if city == \"Cairo\":\n",
    "        street = random.choice(cities_and_streets[\"Cairo\"])\n",
    "    elif city == \"Giza\":\n",
    "        street = random.choice(cities_and_streets[\"Giza\"])\n",
    "    else:\n",
    "        street = random.choice(cities_and_streets[\"Delta\"])\n",
    "    last_modified_date = datetime(2024, 4, 26, random.randint(0, 23), random.randint(0, 59), random.randint(0, 59))\n",
    "    cursor.execute(\"INSERT INTO Pharmacy_Address (Zip_code, City, Street,LastModifiedDate,is_current) VALUES (?, ?, ?, ?,?)\",\n",
    "                   (zip_code, city, street, last_modified_date, is_current))\n",
    "\n",
    "\n",
    "conn.commit()\n",
    "\n",
    "print(\"50 rows of data inserted successfully into the Pharmacy_Address table.\")"
   ]
  },
  {
   "cell_type": "markdown",
   "id": "5ade3f3e-38f9-4851-8c62-22fe2f340156",
   "metadata": {},
   "source": [
    "## Patients_Address table"
   ]
  },
  {
   "cell_type": "code",
   "execution_count": 90,
   "id": "5476e1f0-0954-4bdd-9397-cbea7bb944c3",
   "metadata": {},
   "outputs": [
    {
     "name": "stdout",
     "output_type": "stream",
     "text": [
      "50 rows of data inserted successfully into the Patients_Address table.\n"
     ]
    }
   ],
   "source": [
    "cities_and_streets = {\n",
    "    \"Giza\": [\n",
    "        \"Pyramids Street\", \"El Haram Street\", \"Faisal Street\", \"Imbaba Street\", \"Mohandessin Street\",\n",
    "        \"El Mohandesin Street\", \"El Tahrir Street\", \"El Agouza Street\", \"El Bahr El Aazam Street\",\n",
    "        \"Rod El Farag Street\", \"Dokki Street\", \"Haram Street\", \"Sphinx Square\"\n",
    "    ],\n",
    "    \"Cairo\": [\n",
    "        \"Tahrir Square\", \"Mohamed Mahmoud Street\", \"Nile Corniche\", \"Zamalek Street\", \"El Khamayel Street\",\n",
    "        \"El Marghany Street\", \"Cairo-Alexandria Desert Road\", \"5th Settlement Street\", \"El Maadi Street\",\n",
    "        \"Nasr City Street\", \"El Geish Street\", \"El Thawra Street\", \"El Haram Street\", \"Mohandessin Street\",\n",
    "        \"El Kornish Street\", \"Abd El Aziz Fahmy Street\", \"Sphinx Square\", \"El Batal Ahmed Abdel Aziz Street\",\n",
    "        \"El Gomhoreya Street\", \"Talaat Harb Street\", \"Abbas El Akkad Street\", \"El Hegaz Street\", \"El Obour Street\"\n",
    "    ],\n",
    "    \"Delta\": [\n",
    "        \"El Mahalla El Kubra Street\", \"Banha Street\", \"Kafr El Sheikh Street\", \"Tanta Street\", \"Mansoura Street\",\n",
    "        \"Damanhur Street\", \"Zagazig Street\", \"Benha Street\", \"El Mansheya Street\", \"El Kholi Street\",\n",
    "        \"El Galaa Street\", \"El Abbasyia Street\", \"El Eshreen Street\", \"El Zaher Street\", \"El Azhar Street\",\n",
    "        \"El Masry Street\", \"El Nasr Road\", \"El Gomrok Street\", \"El Nasr Street\", \"El Sheikha Ragiha Street\",\n",
    "        \"El Amir Tadros Street\", \"El Makrizi Street\", \"El Geish Street\", \"El Thawra Street\"\n",
    "    ]\n",
    "}\n",
    "\n",
    "delta_cities = [\"Mansoura\", \"Tanta\", \"Damanhur\", \"Zagazig\", \"Benha\", \"Kafr El Sheikh\", \"El Mahalla El Kubra\", \"Banha\"]\n",
    "\n",
    "is_current=0\n",
    "for city_streets in cities_and_streets.values():\n",
    "    random.shuffle(city_streets)\n",
    "\n",
    "\n",
    "for zip_code in range(2000, 2051): \n",
    "    city = random.choice(delta_cities + [\"Cairo\", \"Giza\"])\n",
    "    if city == \"Cairo\":\n",
    "        street = random.choice(cities_and_streets[\"Cairo\"])\n",
    "    elif city == \"Giza\":\n",
    "        street = random.choice(cities_and_streets[\"Giza\"])\n",
    "    else:\n",
    "        street = random.choice(cities_and_streets[\"Delta\"])\n",
    "    last_modified_date = datetime(2024, 4, 26, random.randint(0, 23), random.randint(0, 59), random.randint(0, 59))\n",
    "    cursor.execute(\"INSERT INTO Patients_Address (Zip_code, City, Street, LastModifiedDate,is_current) VALUES (?, ?, ?,?,?)\",\n",
    "                   (zip_code, city, street,last_modified_date, is_current))\n",
    "\n",
    "\n",
    "conn.commit()\n",
    "\n",
    "print(\"50 rows of data inserted successfully into the Patients_Address table.\")"
   ]
  },
  {
   "cell_type": "markdown",
   "id": "30564366-1bcb-411b-9ff5-d092a7a8e8c8",
   "metadata": {},
   "source": [
    "## Doctors_Address table"
   ]
  },
  {
   "cell_type": "code",
   "execution_count": 91,
   "id": "13bfd19d-e4bc-4557-be99-d3cb0f2fa6bc",
   "metadata": {},
   "outputs": [
    {
     "name": "stdout",
     "output_type": "stream",
     "text": [
      "50 rows of data inserted successfully into the Doctors_Address table.\n"
     ]
    }
   ],
   "source": [
    "cities_and_streets = {\n",
    "    \"Giza\": [\n",
    "        \"Pyramids Street\", \"El Haram Street\", \"Faisal Street\", \"Imbaba Street\", \"Mohandessin Street\",\n",
    "        \"El Mohandesin Street\", \"El Tahrir Street\", \"El Agouza Street\", \"El Bahr El Aazam Street\",\n",
    "        \"Rod El Farag Street\", \"Dokki Street\", \"Haram Street\", \"Sphinx Square\"\n",
    "    ],\n",
    "    \"Cairo\": [\n",
    "        \"Tahrir Square\", \"Mohamed Mahmoud Street\", \"Nile Corniche\", \"Zamalek Street\", \"El Khamayel Street\",\n",
    "        \"El Marghany Street\", \"Cairo-Alexandria Desert Road\", \"5th Settlement Street\", \"El Maadi Street\",\n",
    "        \"Nasr City Street\", \"El Geish Street\", \"El Thawra Street\", \"El Haram Street\", \"Mohandessin Street\",\n",
    "        \"El Kornish Street\", \"Abd El Aziz Fahmy Street\", \"Sphinx Square\", \"El Batal Ahmed Abdel Aziz Street\",\n",
    "        \"El Gomhoreya Street\", \"Talaat Harb Street\", \"Abbas El Akkad Street\", \"El Hegaz Street\", \"El Obour Street\"\n",
    "    ],\n",
    "    \"Delta\": [\n",
    "        \"El Mahalla El Kubra Street\", \"Banha Street\", \"Kafr El Sheikh Street\", \"Tanta Street\", \"Mansoura Street\",\n",
    "        \"Damanhur Street\", \"Zagazig Street\", \"Benha Street\", \"El Mansheya Street\", \"El Kholi Street\",\n",
    "        \"El Galaa Street\", \"El Abbasyia Street\", \"El Eshreen Street\", \"El Zaher Street\", \"El Azhar Street\",\n",
    "        \"El Masry Street\", \"El Nasr Road\", \"El Gomrok Street\", \"El Nasr Street\", \"El Sheikha Ragiha Street\",\n",
    "        \"El Amir Tadros Street\", \"El Makrizi Street\", \"El Geish Street\", \"El Thawra Street\"\n",
    "    ]\n",
    "}\n",
    "\n",
    "delta_cities = [\"Mansoura\", \"Tanta\", \"Damanhur\", \"Zagazig\", \"Benha\", \"Kafr El Sheikh\", \"El Mahalla El Kubra\", \"Banha\"]\n",
    "\n",
    "is_current=0\n",
    "for city_streets in cities_and_streets.values():\n",
    "    random.shuffle(city_streets)\n",
    "\n",
    "\n",
    "for zip_code in range(2000, 2051): \n",
    "    city = random.choice(delta_cities + [\"Cairo\", \"Giza\"])\n",
    "    if city == \"Cairo\":\n",
    "        street = random.choice(cities_and_streets[\"Cairo\"])\n",
    "    elif city == \"Giza\":\n",
    "        street = random.choice(cities_and_streets[\"Giza\"])\n",
    "    else:\n",
    "        street = random.choice(cities_and_streets[\"Delta\"])\n",
    "    last_modified_date = datetime(2024, 4, 26, random.randint(0, 23), random.randint(0, 59), random.randint(0, 59))\n",
    "    cursor.execute(\"INSERT INTO Doctors_Address (Zip_code, City, Street, LastModifiedDate,is_current) VALUES (?, ?, ?,?,?)\",\n",
    "                   (zip_code, city, street, last_modified_date,is_current ))\n",
    "\n",
    "\n",
    "conn.commit()\n",
    "\n",
    "print(\"50 rows of data inserted successfully into the Doctors_Address table.\")"
   ]
  },
  {
   "cell_type": "markdown",
   "id": "0616d615-bb07-4509-839a-9d926fbbcd6a",
   "metadata": {},
   "source": [
    "## Nurses_Students table"
   ]
  },
  {
   "cell_type": "code",
   "execution_count": 92,
   "id": "117a015f-2563-4570-a552-0a824f511793",
   "metadata": {},
   "outputs": [
    {
     "name": "stdout",
     "output_type": "stream",
     "text": [
      "Data inserted successfully into Nurses_Students tables.\n"
     ]
    }
   ],
   "source": [
    "is_current =0\n",
    "for student_id in range(1, 101):\n",
    "    nurse_id = random.randint(1, 50)\n",
    "    last_modified_date = datetime(2024, 4, 26, random.randint(0, 23), random.randint(0, 59), random.randint(0, 59))\n",
    "    cursor.execute(\"INSERT INTO Nurses_Students (Student_ID, Nurse_ID,LastModifiedDate,is_current) VALUES (?, ?,?,?)\",\n",
    "                   (student_id, nurse_id, last_modified_date,is_current ))\n",
    "\n",
    "\n",
    "conn.commit()\n",
    "\n",
    "print(\"Data inserted successfully into Nurses_Students tables.\")"
   ]
  },
  {
   "cell_type": "markdown",
   "id": "8ca1012c-dd51-4dc6-b1dd-6a0584bb4a9b",
   "metadata": {},
   "source": [
    "## Houses_Address table"
   ]
  },
  {
   "cell_type": "code",
   "execution_count": 93,
   "id": "371e69c7-7861-4cb9-ad45-d5fc31948af2",
   "metadata": {},
   "outputs": [
    {
     "name": "stdout",
     "output_type": "stream",
     "text": [
      "50 rows of data inserted successfully into the Houses_Address table.\n"
     ]
    }
   ],
   "source": [
    "cities_and_streets = {\n",
    "    \"Giza\": [\n",
    "        \"Pyramids Street\", \"El Haram Street\", \"Faisal Street\", \"Imbaba Street\", \"Mohandessin Street\",\n",
    "        \"El Mohandesin Street\", \"El Tahrir Street\", \"El Agouza Street\", \"El Bahr El Aazam Street\",\n",
    "        \"Rod El Farag Street\", \"Dokki Street\", \"Haram Street\", \"Sphinx Square\"\n",
    "    ],\n",
    "    \"Cairo\": [\n",
    "        \"Tahrir Square\", \"Mohamed Mahmoud Street\", \"Nile Corniche\", \"Zamalek Street\", \"El Khamayel Street\",\n",
    "        \"El Marghany Street\", \"Cairo-Alexandria Desert Road\", \"5th Settlement Street\", \"El Maadi Street\",\n",
    "        \"Nasr City Street\", \"El Geish Street\", \"El Thawra Street\", \"El Haram Street\", \"Mohandessin Street\",\n",
    "        \"El Kornish Street\", \"Abd El Aziz Fahmy Street\", \"Sphinx Square\", \"El Batal Ahmed Abdel Aziz Street\",\n",
    "        \"El Gomhoreya Street\", \"Talaat Harb Street\", \"Abbas El Akkad Street\", \"El Hegaz Street\", \"El Obour Street\"\n",
    "    ],\n",
    "    \"Delta\": [\n",
    "        \"El Mahalla El Kubra Street\", \"Banha Street\", \"Kafr El Sheikh Street\", \"Tanta Street\", \"Mansoura Street\",\n",
    "        \"Damanhur Street\", \"Zagazig Street\", \"Benha Street\", \"El Mansheya Street\", \"El Kholi Street\",\n",
    "        \"El Galaa Street\", \"El Abbasyia Street\", \"El Eshreen Street\", \"El Zaher Street\", \"El Azhar Street\",\n",
    "        \"El Masry Street\", \"El Nasr Road\", \"El Gomrok Street\", \"El Nasr Street\", \"El Sheikha Ragiha Street\",\n",
    "        \"El Amir Tadros Street\", \"El Makrizi Street\", \"El Geish Street\", \"El Thawra Street\"\n",
    "    ]\n",
    "}\n",
    "\n",
    "delta_cities = [\"Mansoura\", \"Tanta\", \"Damanhur\", \"Zagazig\", \"Benha\", \"Kafr El Sheikh\", \"El Mahalla El Kubra\", \"Banha\"]\n",
    "\n",
    "is_current=0\n",
    "for city_streets in cities_and_streets.values():\n",
    "    random.shuffle(city_streets)\n",
    "\n",
    "\n",
    "for zip_code in range(2000, 2051): \n",
    "    city = random.choice(delta_cities + [\"Cairo\", \"Giza\"])\n",
    "    if city == \"Cairo\":\n",
    "        street = random.choice(cities_and_streets[\"Cairo\"])\n",
    "    elif city == \"Giza\":\n",
    "        street = random.choice(cities_and_streets[\"Giza\"])\n",
    "    else:\n",
    "        street = random.choice(cities_and_streets[\"Delta\"])\n",
    "    last_modified_date = datetime(2024, 4, 26, random.randint(0, 23), random.randint(0, 59), random.randint(0, 59))\n",
    "    \n",
    "    cursor.execute(\"INSERT INTO Houses_Address (Zip_code, City, Street,LastModifiedDate,is_current) VALUES (?, ?, ?,?,?)\",\n",
    "                   (zip_code, city, street,last_modified_date,is_current))\n",
    "\n",
    "\n",
    "conn.commit()\n",
    "\n",
    "print(\"50 rows of data inserted successfully into the Houses_Address table.\")"
   ]
  },
  {
   "cell_type": "markdown",
   "id": "40f2ca64-4855-466f-b7c6-e09317b8ad38",
   "metadata": {},
   "source": [
    "## Houses table"
   ]
  },
  {
   "cell_type": "code",
   "execution_count": 95,
   "id": "1e35d03f-17bb-4a7b-938e-c092505d6f8b",
   "metadata": {},
   "outputs": [
    {
     "name": "stdout",
     "output_type": "stream",
     "text": [
      "50 rows of data inserted successfully into the Houses table.\n"
     ]
    }
   ],
   "source": [
    "is_current=0\n",
    "for house_id in range(1, 51):\n",
    "    patient_id = random.randint(1, 100)  \n",
    "    zip_code = random.randint(2000, 2051)  \n",
    "    nurse_id = random.randint(1, 50)  \n",
    "    last_modified_date = datetime(2024, 4, 26, random.randint(0, 23), random.randint(0, 59), random.randint(0, 59))\n",
    "    cursor.execute(\"INSERT INTO Houses (House_ID, Patient_ID, Zip_code, Nurse_ID, LastModifiedDate,is_current) VALUES (?, ?, ?, ?,?,?)\",\n",
    "                   (house_id, patient_id, zip_code, nurse_id,  last_modified_date,is_current ))\n",
    "\n",
    "\n",
    "conn.commit()\n",
    "print(\"50 rows of data inserted successfully into the Houses table.\")\n"
   ]
  },
  {
   "cell_type": "markdown",
   "id": "0fc2ece2-b6a6-48f0-bd4b-ca15f7c43ea7",
   "metadata": {},
   "source": [
    "## Nurses_Social_Services table"
   ]
  },
  {
   "cell_type": "code",
   "execution_count": 96,
   "id": "2f7fe64e-4330-4e46-862d-fac6502570fa",
   "metadata": {},
   "outputs": [
    {
     "name": "stdout",
     "output_type": "stream",
     "text": [
      "50 rows of data inserted successfully into the Nurses_Social_Services table.\n"
     ]
    }
   ],
   "source": [
    "is_current=0\n",
    "for row_id in range(1, 51):\n",
    "    service_id = random.randint(1, 50) \n",
    "    nurse_id = random.randint(1, 50) \n",
    "    last_modified_date = datetime(2024, 4, 26, random.randint(0, 23), random.randint(0, 59), random.randint(0, 59))\n",
    "    cursor.execute(\"INSERT INTO Nurses_Social_Services (Service_ID, Nurse_ID,LastModifiedDate,is_current) VALUES (?, ?,?,?)\",\n",
    "                   (service_id, nurse_id, last_modified_date,is_current))\n",
    "\n",
    "\n",
    "conn.commit()\n",
    "print(\"50 rows of data inserted successfully into the Nurses_Social_Services table.\")"
   ]
  },
  {
   "cell_type": "markdown",
   "id": "809c902e-859b-49d5-933f-f5c018099de7",
   "metadata": {},
   "source": [
    "## Patients table"
   ]
  },
  {
   "cell_type": "code",
   "execution_count": 117,
   "id": "a748896b-716a-4eb8-a0f8-2e522dc4214e",
   "metadata": {},
   "outputs": [
    {
     "name": "stdout",
     "output_type": "stream",
     "text": [
      "50 rows of data inserted successfully into the Patients table for Egyptian patients.\n"
     ]
    }
   ],
   "source": [
    "egyptian_patient_names = [\n",
    "    \"Ahmed Ali\", \"Fatma Mohamed\", \"Youssef Ibrahim\", \"Nourhan Hassan\", \"Mahmoud Omar\",\n",
    "    \"Aya Samir\", \"Mohamed Abdelrahman\", \"Sara Mahmoud\", \"Omar Ahmed\", \"Nada Mostafa\",\n",
    "    \"Mohamed Salah\", \"Mariam Adel\", \"Ali Gamal\", \"Rana Ahmed\", \"Ahmed Mohamed\",\n",
    "    \"Nour El Din\", \"Nora Mohamed\", \"Ahmed Samir\", \"Reem Ali\", \"Khaled Mohamed\",\n",
    "    \"Yara Ahmed\", \"Mohamed Hassan\", \"Mona Mohamed\", \"Hassan Ibrahim\", \"Hend Salah\",\n",
    "    \"Mohamed Adel\", \"Sama Samir\", \"Omar Mohamed\", \"Fatma Ahmed\", \"Saeed Mohamed\",\n",
    "    \"Hana Ali\", \"Ali Abdelrahman\", \"Farida Mahmoud\", \"Khaled Ahmed\", \"Mai Mohamed\",\n",
    "    \"Mohamed El Sayed\", \"Salma Ahmed\", \"Amr Mohamed\", \"Habiba Abdelrahman\", \"Hossam Ali\",\n",
    "    \"Riham Ahmed\", \"Mahmoud Mohamed\", \"Nada Hassan\", \"Mohamed Samir\", \"Amina Ali\",\n",
    "    \"Ahmed Adel\", \"Reham Mahmoud\", \"Youssef Ahmed\", \"Nourhan Mohamed\", \"Ahmed El Sayed\"\n",
    "]\n",
    "\n",
    "is_current=0\n",
    "start_date = datetime(2022, 1, 1)  \n",
    "for patient_id in range(1, 51):\n",
    "    patient_name = random.choice(egyptian_patient_names)\n",
    "    date_admitted = start_date + timedelta(days=random.randint(1, 365))  \n",
    "    date_discharged = date_admitted + timedelta(days=random.randint(1, 30))  \n",
    "    patient_gender = random.choice([\"Male\", \"Female\"])\n",
    "    room_no = f\"Room {random.randint(100, 999)}\"\n",
    "    problem = random.choice([\"Fever\", \"Injury\", \"Surgery\", \"Chronic Illness\"])\n",
    "    category = random.choice([\"Emergency\", \"Routine\", \"Specialist\"])\n",
    "    zip_code = random.randint(2000, 2051)  # Random zip code\n",
    "    last_modified_date = datetime(2024, 4, 26, random.randint(0, 23), random.randint(0, 59), random.randint(0, 59))\n",
    "    cursor.execute(\"INSERT INTO Patients (Patient_ID, Patient_Name, Date_admitted, Date_discharged, \"\n",
    "                   \"Patient_Gender, Room_NO, Problem, Category, Zip_code,LastModifiedDate,is_current) \"\n",
    "                   \"VALUES (?, ?, ?, ?, ?, ?, ?, ?, ?,?,?)\",\n",
    "                   (patient_id, patient_name, date_admitted, date_discharged, patient_gender,\n",
    "                    room_no, problem, category, zip_code,last_modified_date,is_current))\n",
    "\n",
    "\n",
    "conn.commit()\n",
    "print(\"50 rows of data inserted successfully into the Patients table for Egyptian patients.\")"
   ]
  },
  {
   "cell_type": "markdown",
   "id": "9db16998-aa08-4436-b8cb-14c6dd8a103f",
   "metadata": {},
   "source": [
    "## Patients_Disease table"
   ]
  },
  {
   "cell_type": "code",
   "execution_count": 118,
   "id": "c8e12299-4b91-4f1d-9d77-d7f9a6fdfd9a",
   "metadata": {},
   "outputs": [
    {
     "name": "stdout",
     "output_type": "stream",
     "text": [
      "50 rows of data inserted successfully into the Patients_Disease table.\n"
     ]
    }
   ],
   "source": [
    "is_current=0\n",
    "for row_id in range(1, 51):\n",
    "    patient_id = random.randint(1, 50)  \n",
    "    disease_id = random.randint(1, 50)  \n",
    "    last_modified_date = datetime(2024, 4, 26, random.randint(0, 23), random.randint(0, 59), random.randint(0, 59))\n",
    "    cursor.execute(\"INSERT INTO Patients_Disease (Patient_ID, Dis_ID,LastModifiedDate,is_current) VALUES (?, ?,?,?)\",\n",
    "                   (patient_id, disease_id,last_modified_date,is_current))\n",
    "\n",
    "\n",
    "conn.commit()\n",
    "print(\"50 rows of data inserted successfully into the Patients_Disease table.\")"
   ]
  },
  {
   "cell_type": "markdown",
   "id": "a65990c0-01a5-4bde-8e23-3f0e51a8c4f1",
   "metadata": {},
   "source": [
    "## Patients_Phone table"
   ]
  },
  {
   "cell_type": "code",
   "execution_count": 119,
   "id": "c4ed39dc-9465-4beb-88a4-ccd69226c744",
   "metadata": {},
   "outputs": [
    {
     "name": "stdout",
     "output_type": "stream",
     "text": [
      "50 rows of data inserted successfully into the Patients_Phone table.\n"
     ]
    }
   ],
   "source": [
    "is_current=0\n",
    "for row_id in range(1, 51):\n",
    "    patient_id = random.randint(1, 50)  \n",
    "    prefix = random.choice(['012', '011', '010', '015'])\n",
    "    suffix = ''.join(random.choices('0123456789', k=8))  \n",
    "\n",
    "    contact_no = prefix + suffix\n",
    "    last_modified_date = datetime(2024, 4, 26, random.randint(0, 23), random.randint(0, 59), random.randint(0, 59))\n",
    "    \n",
    "    cursor.execute(\"INSERT INTO Patients_Phone (Patient_ID, Contact_NO,LastModifiedDate,is_current) VALUES (?, ?,?,?)\",\n",
    "                   (patient_id, contact_no,last_modified_date,is_current))\n",
    "\n",
    "# Commit the changes to the database\n",
    "conn.commit()\n",
    "print(\"50 rows of data inserted successfully into the Patients_Phone table.\")"
   ]
  },
  {
   "cell_type": "markdown",
   "id": "b9872179-c308-486b-aae1-a7b9f88c72c9",
   "metadata": {},
   "source": [
    "## Prescription table"
   ]
  },
  {
   "cell_type": "code",
   "execution_count": 120,
   "id": "211f10d4-1609-4d10-8263-d617bf59fc44",
   "metadata": {},
   "outputs": [
    {
     "name": "stdout",
     "output_type": "stream",
     "text": [
      "50 rows of data with Egyptian doctor names inserted successfully into the Prescription table.\n"
     ]
    }
   ],
   "source": [
    "egyptian_doctors = [\n",
    "    \"Dr. Ahmed Mohamed\",\n",
    "    \"Dr. Fatma Ali\",\n",
    "    \"Dr. Mahmoud Hassan\",\n",
    "    \"Dr. Aya Abdelrahman\",\n",
    "    \"Dr. Mohamed Ibrahim\",\n",
    "    \"Dr. Nourhan Salah\",\n",
    "    \"Dr. Amr Ahmed\",\n",
    "    \"Dr. Sara Abdelhamid\",\n",
    "    \"Dr. Mahmoud Elsharif\",\n",
    "    \"Dr. Nada Mohamed\",\n",
    "    \"Dr. Ahmed Samir\",\n",
    "    \"Dr. Yasmin Mahmoud\",\n",
    "    \"Dr. Tarek Mohamed\",\n",
    "    \"Dr. Hana Ahmed\",\n",
    "    \"Dr. Omar Hassan\",\n",
    "    \"Dr. Salma Mohamed\",\n",
    "    \"Dr. Youssef Ali\",\n",
    "    \"Dr. Mariam Ahmed\",\n",
    "    \"Dr. Ali Ibrahim\",\n",
    "    \"Dr. Dina Mostafa\",\n",
    "]\n",
    "\n",
    "is_current=0\n",
    "for pres_id in range(1, 51):\n",
    "    patient_id = random.randint(1, 50)  \n",
    "    pres_date = datetime.now() - timedelta(days=random.randint(1, 365))  \n",
    "    pres_by = random.choice(egyptian_doctors)\n",
    "    last_modified_date = datetime(2024, 4, 26, random.randint(0, 23), random.randint(0, 59), random.randint(0, 59))\n",
    "    cursor.execute(\"INSERT INTO Prescription (Pres_ID, Patient_ID, Pres_Date, PresBY,LastModifiedDate,is_current) VALUES (?, ?, ?, ?,?,?)\",\n",
    "                   (pres_id, patient_id, pres_date, pres_by,last_modified_date,is_current))\n",
    "\n",
    "\n",
    "conn.commit()\n",
    "print(\"50 rows of data with Egyptian doctor names inserted successfully into the Prescription table.\")"
   ]
  },
  {
   "cell_type": "markdown",
   "id": "04fc7eae-ae08-414a-b8c3-2eb1a36debbe",
   "metadata": {},
   "source": [
    "## Pharmacy table"
   ]
  },
  {
   "cell_type": "code",
   "execution_count": 121,
   "id": "574bf8a2-24b4-4b13-9e17-835927a3bccd",
   "metadata": {},
   "outputs": [
    {
     "name": "stdout",
     "output_type": "stream",
     "text": [
      "50 rows of data with Egyptian pharmacy names inserted successfully into the Pharmacy table.\n"
     ]
    }
   ],
   "source": [
    "egyptian_pharmacy_names = [\n",
    "    \"El Nour Pharmacy\",\n",
    "    \"El Seha Pharmacy\",\n",
    "    \"El Shifa Pharmacy\",\n",
    "    \"El Salam Pharmacy\",\n",
    "    \"El Sahaba Pharmacy\",\n",
    "    \"El Amal Pharmacy\",\n",
    "    \"El Hikma Pharmacy\",\n",
    "    \"El Kheir Pharmacy\",\n",
    "    \"El Hayat Pharmacy\",\n",
    "    \"El Aman Pharmacy\",\n",
    "    \"El Gamal Pharmacy\",\n",
    "    \"El Mostaqbal Pharmacy\",\n",
    "    \"El Mokhtar Pharmacy\",\n",
    "    \"El Nasr Pharmacy\",\n",
    "    \"El Fath Pharmacy\",\n",
    "    \"El Iman Pharmacy\",\n",
    "    \"El Madina Pharmacy\",\n",
    "    \"El Taqwa Pharmacy\",\n",
    "    \"El Wafaa Pharmacy\",\n",
    "    \"El Yaqeen Pharmacy\",\n",
    "]\n",
    "\n",
    "is_current=0\n",
    "for pharmacy_id in range(1, 51):\n",
    "    zip_code = random.randint(2000, 2051)  \n",
    "    pharmacy_name = random.choice(egyptian_pharmacy_names)\n",
    "    last_modified_date = datetime(2024, 4, 26, random.randint(0, 23), random.randint(0, 59), random.randint(0, 59))\n",
    "    cursor.execute(\"INSERT INTO Pharmacy (Pharmacy_ID, Zip_code, Pharmacy_Name,LastModifiedDate,is_current) VALUES (?, ?, ?,?,?)\",\n",
    "                   (pharmacy_id, zip_code, pharmacy_name, last_modified_date, is_current))\n",
    "\n",
    "\n",
    "conn.commit()\n",
    "print(\"50 rows of data with Egyptian pharmacy names inserted successfully into the Pharmacy table.\")"
   ]
  },
  {
   "cell_type": "markdown",
   "id": "8ce7b485-74aa-4f24-a263-db96518effc2",
   "metadata": {},
   "source": [
    "## Pharmacy_Phone  table"
   ]
  },
  {
   "cell_type": "code",
   "execution_count": 122,
   "id": "36d3a206-44d0-4c3e-b429-fc24ee794afd",
   "metadata": {},
   "outputs": [
    {
     "name": "stdout",
     "output_type": "stream",
     "text": [
      "50 rows of data inserted successfully into the Pharmacy_ID table.\n"
     ]
    }
   ],
   "source": [
    "is_current=0\n",
    "for row_id in range(1, 51):\n",
    "    Pharmacy_ID = random.randint(1, 50)  \n",
    "    prefix = random.choice(['012', '011', '010', '015'])\n",
    "    suffix = ''.join(random.choices('0123456789', k=8))  \n",
    "\n",
    "    contact_no = prefix + suffix\n",
    "    last_modified_date = datetime(2024, 4, 26, random.randint(0, 23), random.randint(0, 59), random.randint(0, 59))\n",
    "    cursor.execute(\"INSERT INTO Pharmacy_Phone (Pharmacy_ID, Contact_NO, LastModifiedDate,is_current) VALUES (?, ?,?,?)\",\n",
    "                   (Pharmacy_ID, contact_no,last_modified_date,is_current))\n",
    "\n",
    "\n",
    "conn.commit()\n",
    "print(\"50 rows of data inserted successfully into the Pharmacy_ID table.\")"
   ]
  },
  {
   "cell_type": "markdown",
   "id": "cd45c616-f741-4710-868d-f94a2890f096",
   "metadata": {},
   "source": [
    "## Drugs table"
   ]
  },
  {
   "cell_type": "code",
   "execution_count": 123,
   "id": "dbc07c25-e147-4c08-acf1-74d185cf0855",
   "metadata": {},
   "outputs": [
    {
     "name": "stdout",
     "output_type": "stream",
     "text": [
      "50 rows of data inserted successfully into the Drugs table.\n"
     ]
    }
   ],
   "source": [
    "drug_purposes = [\n",
    "    \"Pain Relief\", \"Antibiotic\", \"Anti-inflammatory\", \"Antihistamine\", \"Antacid\", \"Antipyretic\",\n",
    "    \"Antidepressant\", \"Antiviral\", \"Anticoagulant\", \"Antiemetic\", \"Antifungal\", \"Antiseptic\",\n",
    "    \"Antihypertensive\", \"Antidiabetic\", \"Antianxiety\", \"Bronchodilator\", \"Diuretic\", \"Laxative\",\n",
    "    \"Muscle Relaxant\", \"Vitamin Supplement\", \"Antiemetic\", \"Stimulant\", \"Sedative\", \"Antipsychotic\",\n",
    "    \"Antiemetic\", \"Immunosuppressant\", \"Decongestant\", \"Antiemetic\", \"Antispasmodic\", \"Antiemetic\",\n",
    "]\n",
    "\n",
    "manufacturers = [\n",
    "    \"Pfizer\", \"Novartis\", \"Merck & Co.\", \"GlaxoSmithKline\", \"Johnson & Johnson\", \"Roche\", \"Sanofi\",\n",
    "    \"AbbVie\", \"Gilead Sciences\", \"AstraZeneca\", \"Bayer\", \"Eli Lilly and Company\", \"Bristol Myers Squibb\",\n",
    "    \"Amgen\", \"Boehringer Ingelheim\", \"Biogen\", \"Takeda Pharmaceutical\", \"Abbott Laboratories\",\n",
    "    \"Allergan\", \"Sandoz\", \"Novo Nordisk\", \"Celgene\", \"Mylan\", \"Purdue Pharma\", \"Astellas Pharma\",\n",
    "    \"Daiichi Sankyo\", \"Teva Pharmaceutical\", \"Sun Pharmaceuticals\", \"Vertex Pharmaceuticals\",\n",
    "    \"Otsuka Pharmaceutical\", \"Teva Pharmaceutical\", \"Alcon\", \"Bausch Health\", \"Regeneron Pharmaceuticals\",\n",
    "]\n",
    "\n",
    "\n",
    "drug_names = [\n",
    "    \"Aspirin\", \"Amoxicillin\", \"Ibuprofen\", \"Loratadine\", \"Ranitidine\", \"Acetaminophen\",\n",
    "    \"Sertraline\", \"Acyclovir\", \"Warfarin\", \"Ondansetron\", \"Fluconazole\", \"Betadine\",\n",
    "    \"Lisinopril\", \"Metformin\", \"Alprazolam\", \"Albuterol\", \"Furosemide\", \"Docusate\",\n",
    "    \"Cyclobenzaprine\", \"Vitamin C\", \"Ondansetron\", \"Caffeine\", \"Melatonin\", \"Olanzapine\",\n",
    "    \"Ondansetron\", \"Azathioprine\", \"Pseudoephedrine\", \"Ondansetron\", \"Hyoscyamine\", \"Ondansetron\",\n",
    "]\n",
    "\n",
    "is_current=0\n",
    "for drug_id in range(1, 51):\n",
    "    pharmacy_id = random.randint(1, 50)  \n",
    "    purpose = random.choice(drug_purposes)\n",
    "    manufacturer = random.choice(manufacturers)\n",
    "    drug_name = random.choice(drug_names)\n",
    "    last_modified_date = datetime(2024, 4, 26, random.randint(0, 23), random.randint(0, 59), random.randint(0, 59))\n",
    "    cursor.execute(\"INSERT INTO Drugs (Drug_ID, Pharmacy_ID, Purpose_of_Drug, Manufacture_drug, Drug_Name,LastModifiedDate,is_current) \"\n",
    "                   \"VALUES (?, ?, ?, ?, ?,?,?)\",\n",
    "                   (drug_id, pharmacy_id, purpose, manufacturer, drug_name,last_modified_date,is_current))\n",
    "\n",
    "\n",
    "conn.commit()\n",
    "print(\"50 rows of data inserted successfully into the Drugs table.\")"
   ]
  },
  {
   "cell_type": "markdown",
   "id": "0a9ab1f9-73be-4abd-84d5-936174bab2a9",
   "metadata": {},
   "source": [
    "## Prescription_Drugs"
   ]
  },
  {
   "cell_type": "code",
   "execution_count": 125,
   "id": "0598c874-9e75-4d55-b873-fe2ab941a7ef",
   "metadata": {},
   "outputs": [
    {
     "name": "stdout",
     "output_type": "stream",
     "text": [
      "50 rows of data inserted successfully into the Prescription_Drugs table.\n"
     ]
    }
   ],
   "source": [
    "unique_combinations = set()\n",
    "is_current = 0\n",
    "while len(unique_combinations) < 50:\n",
    "    pres_id = random.randint(1, 40)\n",
    "    drug_id = random.randint(1, 50)\n",
    "\n",
    "    combination = (pres_id, drug_id)\n",
    "    if combination not in unique_combinations:\n",
    "        unique_combinations.add(combination)\n",
    "        last_modified_date = datetime(2024, 4, 26, random.randint(0, 23), random.randint(0, 59), random.randint(0, 59))\n",
    "        cursor.execute(\"INSERT INTO Prescription_Drugs (Pres_ID, Drug_ID, LastModifiedDate, is_current) VALUES (?, ?, ?, ?)\",\n",
    "                       (pres_id, drug_id, last_modified_date, is_current))\n",
    "\n",
    "conn.commit()\n",
    "print(\"50 rows of data inserted successfully into the Prescription_Drugs table.\")\n"
   ]
  },
  {
   "cell_type": "markdown",
   "id": "3c5c9fc6-9777-4e98-a2a6-00008cf21306",
   "metadata": {},
   "source": [
    "## Doctors tables"
   ]
  },
  {
   "cell_type": "code",
   "execution_count": 130,
   "id": "c2c52407-be1d-465e-a659-d8cc1d4759c0",
   "metadata": {},
   "outputs": [
    {
     "name": "stdout",
     "output_type": "stream",
     "text": [
      "50 rows of data with Egyptian doctor names inserted successfully into the Doctors table.\n"
     ]
    }
   ],
   "source": [
    "egyptian_first_names = [\n",
    "    \"Ahmed\", \"Mohamed\", \"Ali\", \"Omar\", \"Abdullah\", \"Youssef\", \"Khaled\", \"Mahmoud\", \"Tarek\", \"Amr\",\n",
    "    \"Hassan\", \"Mustafa\", \"Hesham\", \"Sayed\", \"Yasser\", \"Kareem\", \"Maged\", \"Wael\", \"Khaled\", \"Samir\"\n",
    "]\n",
    "egyptian_last_names = [\n",
    "    \"Mahmoud\", \"Ali\", \"Sayed\", \"Mohamed\", \"Ibrahim\", \"Hassan\", \"Ahmed\", \"Ezzat\", \"Khalifa\", \"Hamed\",\n",
    "    \"Abdallah\", \"Nabil\", \"Fathy\", \"Sami\", \"Gaber\", \"Wahed\", \"Kamal\", \"Hamdy\", \"El-Sayed\", \"Abdel-Aziz\"\n",
    "]\n",
    "\n",
    "is_current=0\n",
    "for doctor_id in range(1, 51):\n",
    "    experience_years = random.randint(1, 20)  \n",
    "    doctor_name = random.choice(egyptian_first_names) + \" \" + random.choice(egyptian_last_names)\n",
    "    spec_id = random.randint(1, 40)  \n",
    "    zip_code = random.randint(2000, 2051)  \n",
    "    last_modified_date = datetime(2024, 4, 26, random.randint(0, 23), random.randint(0, 59), random.randint(0, 59))\n",
    "    cursor.execute(\"INSERT INTO Doctors (Doctor_ID, Experience_year, Doctor_Name, Spec_ID, Zip_code,LastModifiedDate, is_current) VALUES (?, ?, ?, ?, ?,?,?)\",\n",
    "                   (doctor_id, experience_years, doctor_name, spec_id, zip_code, last_modified_date,is_current))\n",
    "conn.commit()\n",
    "print(\"50 rows of data with Egyptian doctor names inserted successfully into the Doctors table.\")"
   ]
  },
  {
   "cell_type": "markdown",
   "id": "e3e2e79f-3389-4cd4-80e1-568e5d5a3174",
   "metadata": {},
   "source": [
    "## Doctors_Phone table"
   ]
  },
  {
   "cell_type": "code",
   "execution_count": 131,
   "id": "76780f07-a827-4d78-9e52-19d94e14c3dc",
   "metadata": {},
   "outputs": [
    {
     "name": "stdout",
     "output_type": "stream",
     "text": [
      "50 rows of data inserted successfully into the Doctors_Phone table.\n"
     ]
    }
   ],
   "source": [
    "is_current=0\n",
    "for row_id in range(1, 51):\n",
    "    Doctor_ID = random.randint(1, 50)  \n",
    "    prefix = random.choice(['012', '011', '010', '015'])\n",
    "    suffix = ''.join(random.choices('0123456789', k=8))  \n",
    "\n",
    "    contact_no = prefix + suffix\n",
    "    last_modified_date = datetime(2024, 4, 26, random.randint(0, 23), random.randint(0, 59), random.randint(0, 59))\n",
    "    cursor.execute(\"INSERT INTO Doctors_Phone (Doctor_ID, Contact_NO, LastModifiedDate, is_current) VALUES (?, ?,?,?)\",\n",
    "                   (Doctor_ID, contact_no, last_modified_date,is_current))\n",
    "\n",
    "\n",
    "conn.commit()\n",
    "print(\"50 rows of data inserted successfully into the Doctors_Phone table.\")"
   ]
  },
  {
   "cell_type": "markdown",
   "id": "64bcdef6-1ad0-4319-a941-231749c0ca51",
   "metadata": {},
   "source": [
    "## Doctors_Patients table"
   ]
  },
  {
   "cell_type": "code",
   "execution_count": 132,
   "id": "6d53282a-e45e-479d-979b-0e9cd295bb6d",
   "metadata": {},
   "outputs": [
    {
     "name": "stdout",
     "output_type": "stream",
     "text": [
      "50 rows of data inserted successfully into the Doctors_Patients table.\n"
     ]
    }
   ],
   "source": [
    "unique_combinations = set()\n",
    "is_current = 0\n",
    "while len(unique_combinations) < 50:\n",
    "    Patient_ID = random.randint(1, 50)\n",
    "    Doctor_ID = random.randint(1, 50)\n",
    "\n",
    "    combination = (Patient_ID, Doctor_ID)\n",
    "    if combination not in unique_combinations:\n",
    "        unique_combinations.add(combination)\n",
    "        last_modified_date = datetime(2024, 4, 26, random.randint(0, 23), random.randint(0, 59), random.randint(0, 59))\n",
    "        cursor.execute(\"INSERT INTO Doctors_Patients (Patient_ID, Doctor_ID, LastModifiedDate, is_current) VALUES (?, ?, ?, ?)\",\n",
    "                       (Patient_ID, Doctor_ID, last_modified_date, is_current))\n",
    "\n",
    "conn.commit()\n",
    "print(\"50 rows of data inserted successfully into the Doctors_Patients table.\")\n"
   ]
  },
  {
   "cell_type": "markdown",
   "id": "f50a5eeb-5b8d-4bbb-9b3a-aa9aaeae1cc8",
   "metadata": {},
   "source": [
    "## Nurses_Patients table"
   ]
  },
  {
   "cell_type": "code",
   "execution_count": 133,
   "id": "4d98920a-1c2a-42d4-aea9-d8d2bbb4ae9e",
   "metadata": {},
   "outputs": [
    {
     "name": "stdout",
     "output_type": "stream",
     "text": [
      "50 rows of data inserted successfully into the Nurses_Patients table.\n"
     ]
    }
   ],
   "source": [
    "unique_combinations = set()\n",
    "is_current = 0\n",
    "while len(unique_combinations) < 50:\n",
    "    Nurse_ID = random.randint(1, 50)\n",
    "    Patient_ID = random.randint(1, 50)\n",
    "\n",
    "    combination = (Nurse_ID, Patient_ID)\n",
    "    if combination not in unique_combinations:\n",
    "        unique_combinations.add(combination)\n",
    "        last_modified_date = datetime(2024, 4, 26, random.randint(0, 23), random.randint(0, 59), random.randint(0, 59))\n",
    "        cursor.execute(\"INSERT INTO Nurses_Patients (Nurse_ID, Patient_ID, LastModifiedDate, is_current) VALUES (?, ?, ?, ?)\",\n",
    "                       (Nurse_ID, Patient_ID, last_modified_date, is_current))\n",
    "\n",
    "conn.commit()\n",
    "print(\"50 rows of data inserted successfully into the Nurses_Patients table.\")\n"
   ]
  },
  {
   "cell_type": "markdown",
   "id": "270cb602-771a-4620-86d9-cfb94a6172ff",
   "metadata": {},
   "source": [
    "## Accounts table"
   ]
  },
  {
   "cell_type": "code",
   "execution_count": 134,
   "id": "8ad1d56a-6366-4a31-8113-2814a9541efe",
   "metadata": {},
   "outputs": [
    {
     "name": "stdout",
     "output_type": "stream",
     "text": [
      "50 rows of data inserted successfully into the Accounts table.\n"
     ]
    }
   ],
   "source": [
    "is_current=0\n",
    "for account_id in range(1, 51):\n",
    "    patient_id = random.randint(1, 50)  \n",
    "    services_description = random.choice([\"Operation\", \"Room Service\", \"Drugs\"])\n",
    "    total_account = round(random.uniform(5000, 50000), 2)  \n",
    "    last_modified_date = datetime(2024, 4, 26, random.randint(0, 23), random.randint(0, 59), random.randint(0, 59))\n",
    "    cursor.execute(\"INSERT INTO Accounts ( Patient_ID, Services_Description, Total_Account,LastModifiedDate, is_current) VALUES ( ?, ?, ?,?,?)\",\n",
    "                   ( patient_id, services_description, total_account,last_modified_date,is_current))\n",
    "    \n",
    "\n",
    "conn.commit()\n",
    "\n",
    "print(\"50 rows of data inserted successfully into the Accounts table.\")"
   ]
  },
  {
   "cell_type": "code",
   "execution_count": 135,
   "id": "a1346033-1ee9-4b2d-96f9-cfebbd848c7a",
   "metadata": {},
   "outputs": [],
   "source": [
    "# Close the cursor and connection\n",
    "cursor.close()\n",
    "conn.close()"
   ]
  },
  {
   "cell_type": "code",
   "execution_count": null,
   "id": "b112ff30-a36e-4e51-9204-fe5458b6a7d2",
   "metadata": {},
   "outputs": [],
   "source": []
  }
 ],
 "metadata": {
  "kernelspec": {
   "display_name": "Python 3 (ipykernel)",
   "language": "python",
   "name": "python3"
  },
  "language_info": {
   "codemirror_mode": {
    "name": "ipython",
    "version": 3
   },
   "file_extension": ".py",
   "mimetype": "text/x-python",
   "name": "python",
   "nbconvert_exporter": "python",
   "pygments_lexer": "ipython3",
   "version": "3.10.0"
  }
 },
 "nbformat": 4,
 "nbformat_minor": 5
}
